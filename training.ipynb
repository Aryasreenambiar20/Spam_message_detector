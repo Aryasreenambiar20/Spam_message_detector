{
 "cells": [
  {
   "cell_type": "code",
   "execution_count": 1,
   "id": "0a830ae8-a796-4663-ace5-e0250183eefe",
   "metadata": {},
   "outputs": [
    {
     "data": {
      "text/html": [
       "<div>\n",
       "<style scoped>\n",
       "    .dataframe tbody tr th:only-of-type {\n",
       "        vertical-align: middle;\n",
       "    }\n",
       "\n",
       "    .dataframe tbody tr th {\n",
       "        vertical-align: top;\n",
       "    }\n",
       "\n",
       "    .dataframe thead th {\n",
       "        text-align: right;\n",
       "    }\n",
       "</style>\n",
       "<table border=\"1\" class=\"dataframe\">\n",
       "  <thead>\n",
       "    <tr style=\"text-align: right;\">\n",
       "      <th></th>\n",
       "      <th>label</th>\n",
       "      <th>message</th>\n",
       "    </tr>\n",
       "  </thead>\n",
       "  <tbody>\n",
       "    <tr>\n",
       "      <th>0</th>\n",
       "      <td>ham</td>\n",
       "      <td>Go until jurong point, crazy.. Available only ...</td>\n",
       "    </tr>\n",
       "    <tr>\n",
       "      <th>1</th>\n",
       "      <td>ham</td>\n",
       "      <td>Ok lar... Joking wif u oni...</td>\n",
       "    </tr>\n",
       "    <tr>\n",
       "      <th>2</th>\n",
       "      <td>spam</td>\n",
       "      <td>Free entry in 2 a wkly comp to win FA Cup fina...</td>\n",
       "    </tr>\n",
       "    <tr>\n",
       "      <th>3</th>\n",
       "      <td>ham</td>\n",
       "      <td>U dun say so early hor... U c already then say...</td>\n",
       "    </tr>\n",
       "    <tr>\n",
       "      <th>4</th>\n",
       "      <td>ham</td>\n",
       "      <td>Nah I don't think he goes to usf, he lives aro...</td>\n",
       "    </tr>\n",
       "  </tbody>\n",
       "</table>\n",
       "</div>"
      ],
      "text/plain": [
       "  label                                            message\n",
       "0   ham  Go until jurong point, crazy.. Available only ...\n",
       "1   ham                      Ok lar... Joking wif u oni...\n",
       "2  spam  Free entry in 2 a wkly comp to win FA Cup fina...\n",
       "3   ham  U dun say so early hor... U c already then say...\n",
       "4   ham  Nah I don't think he goes to usf, he lives aro..."
      ]
     },
     "execution_count": 1,
     "metadata": {},
     "output_type": "execute_result"
    }
   ],
   "source": [
    "import pandas as pd\n",
    "\n",
    "# Load dataset (change path if file is not in same folder)\n",
    "df = pd.read_csv('SMSSpamCollection', sep='\\t', header=None, names=['label', 'message'])\n",
    "\n",
    "# Show first 5 rows of the dataset\n",
    "df.head()\n"
   ]
  },
  {
   "cell_type": "code",
   "execution_count": 2,
   "id": "00735b2c-2155-4e2e-9e82-a8a8749d083b",
   "metadata": {},
   "outputs": [
    {
     "name": "stdout",
     "output_type": "stream",
     "text": [
      "label\n",
      "ham     4825\n",
      "spam     747\n",
      "Name: count, dtype: int64\n"
     ]
    }
   ],
   "source": [
    "print(df['label'].value_counts())\n"
   ]
  },
  {
   "cell_type": "code",
   "execution_count": 3,
   "id": "ce023a9e-99b8-495d-a5df-9fa38437cc2d",
   "metadata": {},
   "outputs": [
    {
     "data": {
      "image/png": "[encoded data removed]",
      "text/plain": [
       "<Figure size 640x480 with 1 Axes>"
      ]
     },
     "metadata": {},
     "output_type": "display_data"
    }
   ],
   "source": [
    "import matplotlib.pyplot as plt\n",
    "import seaborn as sns\n",
    "\n",
    "sns.countplot(x='label', data=df)\n",
    "plt.title(\"Spam vs Ham message count\")\n",
    "plt.show()\n"
   ]
  },
  {
   "cell_type": "code",
   "execution_count": 4,
   "id": "7fe1818b-c500-49b9-959d-2ea965f5b3a8",
   "metadata": {},
   "outputs": [
    {
     "name": "stdout",
     "output_type": "stream",
     "text": [
      "Shape of feature matrix: (5572, 8444)\n",
      "Number of labels: (5572,)\n"
     ]
    }
   ],
   "source": [
    "from sklearn.feature_extraction.text import TfidfVectorizer\n",
    "\n",
    "# Initialize the vectorizer with English stop words removal\n",
    "tfidf = TfidfVectorizer(stop_words='english')\n",
    "\n",
    "# Convert the text messages into numerical features\n",
    "X = tfidf.fit_transform(df['message'])\n",
    "\n",
    "# Convert labels into numbers: 0 for ham, 1 for spam\n",
    "y = df['label'].map({'ham': 0, 'spam': 1})\n",
    "\n",
    "print(\"Shape of feature matrix:\", X.shape)\n",
    "print(\"Number of labels:\", y.shape)\n"
   ]
  },
  {
   "cell_type": "code",
   "execution_count": 5,
   "id": "52775fc7-bde3-481d-8555-1413cdd9d9bf",
   "metadata": {},
   "outputs": [
    {
     "name": "stdout",
     "output_type": "stream",
     "text": [
      "Training set size: 4457\n",
      "Test set size: 1115\n"
     ]
    }
   ],
   "source": [
    "from sklearn.model_selection import train_test_split\n",
    "\n",
    "# Split data: 80% training, 20% testing\n",
    "X_train, X_test, y_train, y_test = train_test_split(X, y, test_size=0.2, random_state=42)\n",
    "\n",
    "print(\"Training set size:\", X_train.shape[0])\n",
    "print(\"Test set size:\", X_test.shape[0])\n"
   ]
  },
  {
   "cell_type": "code",
   "execution_count": 6,
   "id": "97ee53d5-6565-406c-9cd6-22e177224f03",
   "metadata": {},
   "outputs": [
    {
     "name": "stdout",
     "output_type": "stream",
     "text": [
      "Model training complete!\n"
     ]
    }
   ],
   "source": [
    "from sklearn.linear_model import LogisticRegression\n",
    "\n",
    "# Create the model\n",
    "model = LogisticRegression(max_iter=1000)\n",
    "\n",
    "# Train the model on training data\n",
    "model.fit(X_train, y_train)\n",
    "\n",
    "print(\"Model training complete!\")\n"
   ]
  },
  {
   "cell_type": "code",
   "execution_count": 7,
   "id": "f4e08fe6-37df-49c8-8f65-9de20a77296e",
   "metadata": {},
   "outputs": [
    {
     "name": "stdout",
     "output_type": "stream",
     "text": [
      "Accuracy: 0.9596412556053812\n",
      "\n",
      "Classification Report:\n",
      "               precision    recall  f1-score   support\n",
      "\n",
      "           0       0.96      1.00      0.98       966\n",
      "           1       1.00      0.70      0.82       149\n",
      "\n",
      "    accuracy                           0.96      1115\n",
      "   macro avg       0.98      0.85      0.90      1115\n",
      "weighted avg       0.96      0.96      0.96      1115\n",
      "\n"
     ]
    }
   ],
   "source": [
    "from sklearn.metrics import accuracy_score, classification_report\n",
    "\n",
    "# Predict labels for test set\n",
    "y_pred = model.predict(X_test)\n",
    "\n",
    "# Calculate accuracy\n",
    "print(\"Accuracy:\", accuracy_score(y_test, y_pred))\n",
    "\n",
    "# Detailed report\n",
    "print(\"\\nClassification Report:\\n\", classification_report(y_test, y_pred))\n"
   ]
  },
  {
   "cell_type": "code",
   "execution_count": 8,
   "id": "d9aad7e2-34c2-4861-8029-bc992e320088",
   "metadata": {},
   "outputs": [
    {
     "name": "stdout",
     "output_type": "stream",
     "text": [
      "Not Spam\n",
      "Not Spam\n"
     ]
    }
   ],
   "source": [
    "def predict_spam(text):\n",
    "    # Convert the text to the same TF-IDF format\n",
    "    text_tfidf = tfidf.transform([text])\n",
    "    # Predict with the trained model\n",
    "    pred = model.predict(text_tfidf)[0]\n",
    "    return 'Spam' if pred == 1 else 'Not Spam'\n",
    "\n",
    "# Try out some examples\n",
    "print(predict_spam(\"Congratulations! You won a free ticket!\"))\n",
    "print(predict_spam(\"Hey, are we meeting tomorrow?\"))\n"
   ]
  },
  {
   "cell_type": "code",
   "execution_count": 9,
   "id": "ac0c850e-ee14-4829-8f80-35ea16aa2343",
   "metadata": {},
   "outputs": [
    {
     "name": "stdin",
     "output_type": "stream",
     "text": [
      "Enter a message to check (or type 'exit' to stop):  Win a brand new car now\n"
     ]
    },
    {
     "name": "stdout",
     "output_type": "stream",
     "text": [
      "Prediction: Not Spam\n"
     ]
    },
    {
     "name": "stdin",
     "output_type": "stream",
     "text": [
      "Enter a message to check (or type 'exit' to stop):  \"Urgent! Your account will be locked.\"\n"
     ]
    },
    {
     "name": "stdout",
     "output_type": "stream",
     "text": [
      "Prediction: Not Spam\n"
     ]
    },
    {
     "name": "stdin",
     "output_type": "stream",
     "text": [
      "Enter a message to check (or type 'exit' to stop):  \"Let’s have lunch today.\"\n"
     ]
    },
    {
     "name": "stdout",
     "output_type": "stream",
     "text": [
      "Prediction: Not Spam\n"
     ]
    },
    {
     "name": "stdin",
     "output_type": "stream",
     "text": [
      "Enter a message to check (or type 'exit' to stop):  Are you coming to class?\"\n"
     ]
    },
    {
     "name": "stdout",
     "output_type": "stream",
     "text": [
      "Prediction: Not Spam\n"
     ]
    },
    {
     "name": "stderr",
     "output_type": "stream",
     "text": [
      "\n",
      "KeyboardInterrupt\n",
      "\n"
     ]
    }
   ],
   "source": [
    "while True:\n",
    "    text = input(\"Enter a message to check (or type 'exit' to stop): \")\n",
    "    if text.lower() == 'exit':\n",
    "        break\n",
    "    print(\"Prediction:\", predict_spam(text))\n"
   ]
  },
  {
   "cell_type": "code",
   "execution_count": 10,
   "id": "36e93e24-b135-4de3-b8ec-876ff356901d",
   "metadata": {},
   "outputs": [
    {
     "name": "stdout",
     "output_type": "stream",
     "text": [
      "Random Forest Accuracy: 0.97847533632287\n"
     ]
    }
   ],
   "source": [
    "from sklearn.ensemble import RandomForestClassifier\n",
    "\n",
    "# Create and train Random Forest model\n",
    "rf_model = RandomForestClassifier(n_estimators=100, random_state=42)\n",
    "rf_model.fit(X_train, y_train)\n",
    "\n",
    "# Test accuracy\n",
    "y_pred_rf = rf_model.predict(X_test)\n",
    "from sklearn.metrics import accuracy_score\n",
    "print(\"Random Forest Accuracy:\", accuracy_score(y_test, y_pred_rf))\n"
   ]
  },
  {
   "cell_type": "code",
   "execution_count": 11,
   "id": "4fc674f4-0311-4bc7-a3ee-66101216ecb8",
   "metadata": {},
   "outputs": [
    {
     "name": "stdout",
     "output_type": "stream",
     "text": [
      "Not Spam\n",
      "Not Spam\n"
     ]
    }
   ],
   "source": [
    "def predict_spam_rf(text):\n",
    "    text_tfidf = tfidf.transform([text])\n",
    "    pred = rf_model.predict(text_tfidf)[0]\n",
    "    return 'Spam' if pred == 1 else 'Not Spam'\n",
    "\n",
    "print(predict_spam_rf(\"Win a brand new car now!\"))\n",
    "print(predict_spam_rf(\"Are you coming to class?\"))\n"
   ]
  },
  {
   "cell_type": "code",
   "execution_count": 12,
   "id": "cf65083a-7150-4b0f-b51c-77fa3ca6955a",
   "metadata": {},
   "outputs": [
    {
     "name": "stdout",
     "output_type": "stream",
     "text": [
      "SVM Accuracy: 0.9802690582959641\n"
     ]
    }
   ],
   "source": [
    "from sklearn.svm import LinearSVC\n",
    "\n",
    "# Create the SVM model\n",
    "svm_model = LinearSVC()\n",
    "\n",
    "# Train the model\n",
    "svm_model.fit(X_train, y_train)\n",
    "\n",
    "# Predict on test data\n",
    "y_pred_svm = svm_model.predict(X_test)\n",
    "\n",
    "# Check accuracy\n",
    "from sklearn.metrics import accuracy_score\n",
    "print(\"SVM Accuracy:\", accuracy_score(y_test, y_pred_svm))\n",
    "\n"
   ]
  },
  {
   "cell_type": "code",
   "execution_count": 13,
   "id": "495e4088-50ef-4b55-b0ab-2704c69b9350",
   "metadata": {},
   "outputs": [
    {
     "name": "stdout",
     "output_type": "stream",
     "text": [
      "Not Spam\n",
      "Not Spam\n",
      "Spam\n",
      "Not Spam\n"
     ]
    }
   ],
   "source": [
    "def predict_spam_svm(text):\n",
    "    text_tfidf = tfidf.transform([text])\n",
    "    pred = svm_model.predict(text_tfidf)[0]\n",
    "    return 'Spam' if pred == 1 else 'Not Spam'\n",
    "\n",
    "print(predict_spam_svm(\"Win a brand new car now!\"))\n",
    "print(predict_spam_svm(\"Are you coming to class?\"))\n",
    "print(predict_spam_svm(\"Urgent! Your account will be locked.\"))\n",
    "print(predict_spam_svm(\"Let’s have lunch today.\"))\n"
   ]
  },
  {
   "cell_type": "code",
   "execution_count": 14,
   "id": "0faae14c-2168-4334-9e21-cc75642df412",
   "metadata": {},
   "outputs": [
    {
     "data": {
      "text/plain": [
       "['tfidf_vectorizer.pkl']"
      ]
     },
     "execution_count": 14,
     "metadata": {},
     "output_type": "execute_result"
    }
   ],
   "source": [
    "import joblib\n",
    "\n",
    "joblib.dump(svm_model, 'svm_spam_model.pkl')\n",
    "joblib.dump(tfidf, 'tfidf_vectorizer.pkl')\n"
   ]
  },
  {
   "cell_type": "code",
   "execution_count": 15,
   "id": "56d05f82-90c4-41c7-a9df-ec8a9211fa2f",
   "metadata": {},
   "outputs": [
    {
     "data": {
      "text/plain": [
       "['tfidf_vectorizer.pkl']"
      ]
     },
     "execution_count": 15,
     "metadata": {},
     "output_type": "execute_result"
    }
   ],
   "source": [
    "import joblib\n",
    "\n",
    "joblib.dump(svm_model, 'svm_spam_model.pkl')\n",
    "joblib.dump(tfidf, 'tfidf_vectorizer.pkl')\n"
   ]
  },
  {
   "cell_type": "code",
   "execution_count": null,
   "id": "6d002c3d-3ce1-4148-bb24-7fa0fc072590",
   "metadata": {},
   "outputs": [],
   "source": []
  }
 ],
 "metadata": {
  "kernelspec": {
   "display_name": "Python 3 (ipykernel)",
   "language": "python",
   "name": "python3"
  },
  "language_info": {
   "codemirror_mode": {
    "name": "ipython",
    "version": 3
   },
   "file_extension": ".py",
   "mimetype": "text/x-python",
   "name": "python",
   "nbconvert_exporter": "python",
   "pygments_lexer": "ipython3",
   "version": "3.13.1"
  }
 },
 "nbformat": 4,
 "nbformat_minor": 5
}
